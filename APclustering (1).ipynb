{
 "cells": [
  {
   "cell_type": "markdown",
   "metadata": {},
   "source": [
    "Affinity Propagation Algorithm Implementation and Application\n",
    "-----"
   ]
  },
  {
   "cell_type": "markdown",
   "metadata": {},
   "source": [
    "**Authors: Zhangqi Chen, Yuwei Xu**\n",
    "\n",
    "**Github link:https://github.com/zhangqichole/Yuwei-Zhangqi-AP**"
   ]
  },
  {
   "cell_type": "markdown",
   "metadata": {},
   "source": [
    "1.Abstract\n",
    "---\n",
    "Affinity Propagation Algorithm is a single-exemplar based clustering algorithm. It creates clusters by sending messages between data points until convergence. Compared with other conventional clustering algorithms, Affinity Propagation Algorithm is efficient, simple and flexible. it can be applied in many areas such as business simulation, face recognition and computer vision.\n",
    "\n",
    "\n",
    "In this project, we first introduce the background, characteristics and applications of this algorithm. Then we implement the algorithm and use vectorization and JIT to optimize it. To test its efficiency and accuracy, we apply this algorithm on two sets of simulated data and two sets of real data. Finally, we compare its performance with another two clustering algorithms, Kmeans and MeanShift."
   ]
  },
  {
   "cell_type": "markdown",
   "metadata": {},
   "source": [
    "2.Background\n",
    "-----\n",
    "The Affinity Propagation Algorithm was first proposed by Brendan Frey and Delbert Dueck in a paper named \"Clustering by Passing Messages Between Data Points\" in 2007. This algorithm is a clustering method that can be used to address unsupervised clustering problems.\n",
    "\n",
    "- Applications\n",
    "\n",
    "The Affinity Propagation Algorithm can be applied in various fields such as bioinformatics,computer vision, face recognition, genes detection and manuscript identification.\n",
    "\n",
    "- Advantages \n",
    "\n",
    "Compared with other clustering algorithms(eg. k-means), the Affinity Propagation method has several advantages:\n",
    "\n",
    "1. No need to set the number of clusters in advance.\n",
    "\n",
    "2. Examplars are actual data points instead of the averages of data points(centroids in k-means algorithm).\n",
    "\n",
    "3. Faster than other clustering algorithms in small data sets.\n",
    "\n",
    "4. Not sensitive to initial values. No matter what initial values are, the final results will be the same.\n",
    "\n",
    "5. Can be applied to general similarity data even asymmetric similiarity measures.\n",
    "\n",
    "\n",
    "- Disadvantages\n",
    "\n",
    "Although the Affinity Propagation Algorithm has many advantages, it also has some drawbacks:\n",
    "\n",
    "1. Need to specify the preferences in advance, which may affact final results.\n",
    "\n",
    "2. For large data sets, the algorithm often converges to suboptimal solutions.\n",
    "\n",
    "3. The algorithm is complex with $O(N*N*logN)$. When it applied to large data sets, it tends to be very slow.\n",
    "\n",
    "\n",
    "- Use in research\n",
    "\n",
    "Affinity Propagation Clustering is especially powerful on high-dimensional and muti-class data sets. Therefore, it is can be applied in computer vision and image categorization.\n",
    "\n",
    "In this project, we apply this clustering method on Olivetti face dataset to classify the face images and use it on breast cancer data."
   ]
  },
  {
   "cell_type": "markdown",
   "metadata": {},
   "source": [
    "**3.Description of algorithm**\n",
    "----\n",
    "The main idea of this affinity propagation algorithm is to take all the data points as the potential 'exemplars', calculate the messages exchanged between each data pairs and, through updating messages, find the most suitable exemplars. \n",
    "\n",
    "**Similarity $s(i,k)$**\n",
    "\n",
    "$s(i,k) = -\\parallel x_{i} - x_{k} \\parallel ^2$ suggests the similarity between two data points which is shown as the negative Euclidean distance between two data points. If $s(i,k) > s(i,j)$ , it implies that data point i is more similar to data point k than j.\n",
    "\n",
    "**Preference $s(k,k)$**\n",
    "\n",
    "The diagonal values $s(k,k)$ are referred to as preferences. The larger the value of $s(k,k)$ is, the more likely that k can be chosen as an exemplar. Initially, all the data points are equally viewed as potential exemplars so the preferences are set to be a common value, usually the median value of the input similarities.\n",
    "\n",
    "**Responsibility Matrix R**\n",
    "\n",
    "R contains responsibility values $r(i,k)$. \n",
    "\n",
    "Responsibility is shown as\n",
    "$r(i,k) \\leftarrow s(i,k)-max_{k^{'}\\neq k} \\{a(i,k^{'}) + s(i,k^{'})\\}$ which quantifies the suitability that $x_{k}$ is to be the exemplar for $x_{i}$ than other candidate exemplars. $r(i,k)$ is the message sent from data point i to potential exemplar k.\n",
    "\n",
    "**Availability Matrix A**\n",
    "\n",
    "A contains availability value $a(i,k)$ which is shown as $a(i,k) \\leftarrow min\\{0,r(k,k) + \\sum_{i^{'} s.t.i^{'}\\notin\\{i,k\\}}max\\{0,r(i^{'},k)\\}\\}$. \n",
    "\n",
    "$a(i,k)$ is the message sent from potential exemplar k to data point i which evaluates how appropriate for data point i to choose k as its exemplar, considering the responsibility of k to other data points.\n",
    "\n",
    "**Iteration Process**\n",
    "\n",
    "Initially, matrix A and R are set all zeros. \n",
    "\n",
    "In the first iteration: $a(i,k)\\leftarrow 0$ , $r(i,k) \\leftarrow s(i,k)-max_{k^{'}\\neq k} \\{ s(i,k^{'})\\}$ .\n",
    "\n",
    "In the later iterations:\n",
    "\n",
    "$a(i,k) \\leftarrow min\\{0,r(k,k) + \\sum_{i^{'} s.t.i^{'}\\notin\\{i,k\\}}max\\{0,r(i^{'},k)\\}\\}$,\n",
    "\n",
    "$a(k,k)\\leftarrow \\sum_{i^{'} s.t.i^{'}\\notin\\{i,k\\}}max\\{0,r(i^{'},k)\\}\\}$\n",
    "\n",
    "$r(i,k) \\leftarrow s(i,k)-max_{k^{'}\\neq k} \\{a(i,k^{'}) + s(i,k^{'})\\}$\n",
    "\n",
    "Within the maximize number of iterations, this process continues until the changes in the messages fall below a certain threshold or the local decisions stay unchanged after several iterations.\n",
    "\n",
    "For each data point i, the data point k that maximizes the value $a(i,k)+r(i,k)$ is considered the most suitable exemplar.\n",
    "\n",
    "**Damping Factor $\\lambda$**\n",
    "\n",
    "In order to reduce the numerical oscillations, each message is set to $\\lambda$ times its previous iteration value plus $1-\\lambda$ times its updated value.\n",
    "\n",
    "The damping factor $\\lambda$ is between 0 to 1, usually $\\lambda=0.5$."
   ]
  },
  {
   "cell_type": "markdown",
   "metadata": {},
   "source": [
    "4.Implementation and Optimization \n",
    "---"
   ]
  },
  {
   "cell_type": "markdown",
   "metadata": {},
   "source": [
    "We have managed to implement the affinity propagation clustering method and put them in a package called 'APClustering', which has been submitted to Source code."
   ]
  },
  {
   "cell_type": "code",
   "execution_count": 1,
   "metadata": {
    "scrolled": true
   },
   "outputs": [
    {
     "name": "stdout",
     "output_type": "stream",
     "text": [
      "Processing /Users/chenzhangqi/Desktop/APClustering\n",
      "Building wheels for collected packages: APClustering\n",
      "  Running setup.py bdist_wheel for APClustering ... \u001b[?25ldone\n",
      "\u001b[?25h  Stored in directory: /private/var/folders/l7/p1_0ltx504s58yxdg3ycv4j00000gn/T/pip-ephem-wheel-cache-mwt8k29a/wheels/c2/cf/92/f21a62628caaf52f6a8d47992d6251165f3bdaac9760044180\n",
      "Successfully built APClustering\n",
      "Installing collected packages: APClustering\n",
      "  Found existing installation: APClustering 1.0\n",
      "    Uninstalling APClustering-1.0:\n",
      "      Successfully uninstalled APClustering-1.0\n",
      "Successfully installed APClustering-1.0\n"
     ]
    }
   ],
   "source": [
    "!pip install ."
   ]
  },
  {
   "cell_type": "code",
   "execution_count": 66,
   "metadata": {},
   "outputs": [],
   "source": [
    "import APClustering as apc\n",
    "import numpy as np\n",
    "import matplotlib.pyplot as plt\n",
    "from scipy.spatial import ConvexHull\n",
    "from sklearn.datasets.samples_generator import make_blobs\n",
    "import warnings\n",
    "from sklearn.cluster import KMeans, MeanShift,Birch\n",
    "from sklearn import metrics\n",
    "from sklearn.datasets.samples_generator import make_blobs\n",
    "from sklearn.cluster import AffinityPropagation"
   ]
  },
  {
   "cell_type": "markdown",
   "metadata": {},
   "source": [
    "**4.1 Using profiling to identify bottlenecks**"
   ]
  },
  {
   "cell_type": "code",
   "execution_count": 61,
   "metadata": {},
   "outputs": [],
   "source": [
    "import numpy as np\n",
    "\n",
    "def distance(a, b):\n",
    "    \"\"\"Compute the distance\"\"\"\n",
    "    return np.linalg.norm(a - b)\n",
    "\n",
    "def dist_matrix(a, b):\n",
    "    \"\"\"Return distance matrix\"\"\"\n",
    "    c = (a - b).flatten()\n",
    "    return np.linalg.norm(c)\n",
    "\n",
    "def get_similarity_matrix(v):\n",
    "    \"\"\"Return the initial similarity matrix\"\"\"\n",
    "    n = v.shape[0]\n",
    "    s = np.zeros((n, n))\n",
    "    for i in range(n):\n",
    "        for j in range(n):\n",
    "            s[i, j] = -distance(v[i], v[j])\n",
    "    return s\n",
    "\n",
    "def set_diag(m, v):\n",
    "    \"\"\"Set the values on the diagonal \"\"\"\n",
    "    for i in range(m.shape[0]):\n",
    "        m[i, i] = v[i]\n",
    "        \n",
    "def get_coords(dimension, vs):\n",
    "    \"\"\"Get coordinates\"\"\"\n",
    "    coordinates = []\n",
    "    for v in vs:\n",
    "        coordinates.append(v[dimension])\n",
    "    return coordinates\n",
    "\n",
    "def cluster_given_similarity_matrix(s, max_iter, conv_iter, damping, conv_threshold, pref, mode_term, lim_exemp):\n",
    "    \"\"\"''\n",
    "    Identifies clusters and examplars\n",
    "    \n",
    "    Parameters:\n",
    "    -----------\n",
    "    s: similarity matrix\n",
    "    conv_threshold: tolerance\n",
    "    pref: preference\n",
    "    max_iter: max iterations\n",
    "    '''\"\"\"\n",
    "    n = s.shape[0]\n",
    "\n",
    "    if pref == 'default':\n",
    "        set_diag(s, np.median(s) * np.ones(n))\n",
    "    else:\n",
    "        set_diag(s, pref)\n",
    "    \n",
    "    a = np.zeros((n, n))\n",
    "    r = np.zeros((n, n))\n",
    "    indices = np.arange(n)\n",
    "    \n",
    "    d = np.zeros((n, n))\n",
    "    d_old = np.zeros((n, n))\n",
    "    dist = -np.inf\n",
    "    dist_old = np.inf\n",
    "    distances = []\n",
    "    n_it = 0\n",
    "    sign_ex = np.zeros(1)\n",
    "    sign_ex_old = np.zeros(1)\n",
    "    n_stab_it = 0\n",
    "    clusters = []\n",
    "    clusters_old = []\n",
    "    \n",
    "    # alternating massage passing\n",
    "    for it in range(max_iter):\n",
    "        \n",
    "        # records the number of iterations\n",
    "        n_it += 1\n",
    "        \n",
    "        # updates responsibility matrix\n",
    "        aux = np.add(a, s)\n",
    "        largest_elems = np.max(aux, axis = 0)\n",
    "        largest_elems_ind = np.argmax(aux, axis = 0)\n",
    "        aux[indices, largest_elems_ind] = -np.inf\n",
    "        second_largest_elems = np.max(aux, axis = 0)\n",
    "        aux = np.tile(largest_elems, (n, 1)).T\n",
    "        aux[indices, largest_elems_ind] = second_largest_elems\n",
    "        r = (r + s - aux) * damping\n",
    "\n",
    "        # updates availability matrix\n",
    "        aux = np.maximum(r, 0)\n",
    "        set_diag(aux, np.diag(r))\n",
    "        aux -= np.sum(aux, axis = 1)\n",
    "        temp = np.diag(aux).copy()\n",
    "        aux = np.maximum(aux, 0)\n",
    "        set_diag(aux, temp)\n",
    "        a = (a - aux) * damping\n",
    "        \n",
    "        # identifies exemplars and clusters\n",
    "        sign_ex_old = sign_ex\n",
    "        clusters_old = clusters\n",
    "        sign_ex = np.sign((np.diag(a) + np.diag(r)) - lim_exemp)\n",
    "        ind_ex = indices[sign_ex > 0]\n",
    "        clusters = []\n",
    "        if len(ind_ex) > 0:\n",
    "            det = np.add(a, r)\n",
    "            k = 0\n",
    "            for i in indices:\n",
    "                if i not in ind_ex:\n",
    "                    clusters.append([0, np.argmax(det[i, ind_ex])])\n",
    "                else:\n",
    "                    clusters.append([1, k])\n",
    "                    k += 1\n",
    "        \n",
    "        #breaks from iteration if converged\n",
    "        if mode_term == 'clusters':\n",
    "            if clusters_old == clusters and len(clusters) > 0:\n",
    "                n_stab_it += 1\n",
    "            if n_stab_it == conv_iter:\n",
    "                break\n",
    "        elif mode_term == 'matrices':\n",
    "            d_old = d\n",
    "            d = np.add(a, r)\n",
    "            distances.append(dist_matrix(d_old, d))\n",
    "            if len(distances) >= conv_iter:\n",
    "                to_break = True\n",
    "                for i in range(conv_iter):\n",
    "                    if abs(distances[len(distances) - i - 1]) > conv_threshold:\n",
    "                        to_break = False\n",
    "                if to_break:\n",
    "                    break\n",
    "            \n",
    "    return clusters, len(ind_ex), n_it\n",
    "\n",
    "# the default pref is the median of all similarities\n",
    "# the default mode of termination is termination after stabilization of clusters\n",
    "# an alternative mode of termination is termination after stabilization of\n",
    "# the availability and responsibility matrices\n",
    "def cluster(data, max_iter = 200, conv_iter = 20, damping = 0.5, conv_threshold = 1e-3, pref = 'default', mode_term = 'clusters', lim_exemp = 1e-3):\n",
    "    \"\"\"Return a collection of clusters, exemplars, iteration numbers and labels\"\"\"\n",
    "    clusters = []\n",
    "    centers = []\n",
    "    labels = []\n",
    "    \n",
    "    s = get_similarity_matrix(data)\n",
    "    results = cluster_given_similarity_matrix(s, max_iter, conv_iter, damping, conv_threshold, pref, mode_term, lim_exemp)\n",
    "    n_clusters = results[1]\n",
    "\n",
    "    for i in range(n_clusters):\n",
    "        sublist = []\n",
    "        clusters.append(sublist)\n",
    "\n",
    "    i = 0\n",
    "    for item in results[0]:\n",
    "        labels.append(item[1])\n",
    "        clusters[item[1]].append(data[i])\n",
    "        if item[0] == 1:\n",
    "            centers.append(data[i])\n",
    "        i += 1\n",
    "    \n",
    "    return clusters, centers, results[2], labels"
   ]
  },
  {
   "cell_type": "code",
   "execution_count": 15,
   "metadata": {},
   "outputs": [],
   "source": [
    "import profile\n",
    "import math"
   ]
  },
  {
   "cell_type": "code",
   "execution_count": 16,
   "metadata": {},
   "outputs": [],
   "source": [
    "points = np.vstack(np.random.randn(200, 2))\n",
    "diag = np.ones(200) * -0.9"
   ]
  },
  {
   "cell_type": "code",
   "execution_count": 17,
   "metadata": {},
   "outputs": [
    {
     "name": "stdout",
     "output_type": "stream",
     "text": [
      "         395482 function calls in 6.278 seconds\n",
      "\n",
      "   Ordered by: standard name\n",
      "\n",
      "   ncalls  tottime  percall  cumtime  percall filename:lineno(function)\n",
      "      200    0.002    0.000    0.003    0.000 :0(all)\n",
      "    20801    0.151    0.000    0.151    0.000 :0(append)\n",
      "        1    0.000    0.000    0.000    0.000 :0(arange)\n",
      "      200    0.037    0.000    0.037    0.000 :0(argmax)\n",
      "    41804    0.178    0.000    0.178    0.000 :0(array)\n",
      "      200    0.003    0.000    0.003    0.000 :0(copy)\n",
      "        1    0.000    0.000    0.000    0.000 :0(copyto)\n",
      "      800    0.006    0.000    0.006    0.000 :0(diagonal)\n",
      "    40000    0.488    0.000    0.488    0.000 :0(dot)\n",
      "        1    0.000    0.000    0.000    0.000 :0(empty)\n",
      "        1    0.000    0.000    6.278    6.278 :0(exec)\n",
      "        1    0.000    0.000    0.000    0.000 :0(flatten)\n",
      "        1    0.000    0.000    0.000    0.000 :0(get)\n",
      "      200    0.001    0.000    0.001    0.000 :0(getattr)\n",
      "        1    0.000    0.000    0.000    0.000 :0(hasattr)\n",
      "        2    0.000    0.000    0.000    0.000 :0(index)\n",
      "        1    0.000    0.000    0.000    0.000 :0(insert)\n",
      "     1003    0.004    0.000    0.004    0.000 :0(isinstance)\n",
      "    80008    0.414    0.000    0.414    0.000 :0(issubclass)\n",
      "      600    0.003    0.000    0.003    0.000 :0(items)\n",
      "     2008    0.010    0.000    0.010    0.000 :0(len)\n",
      "        2    0.000    0.000    0.000    0.000 :0(normalize_axis_index)\n",
      "        1    0.001    0.001    0.001    0.001 :0(partition)\n",
      "    40000    0.354    0.000    0.354    0.000 :0(ravel)\n",
      "      601    0.098    0.000    0.098    0.000 :0(reduce)\n",
      "      200    0.009    0.000    0.009    0.000 :0(repeat)\n",
      "      400    0.003    0.000    0.003    0.000 :0(reshape)\n",
      "        1    0.000    0.000    0.000    0.000 :0(setprofile)\n",
      "        1    0.000    0.000    0.000    0.000 :0(sorted)\n",
      "        1    0.000    0.000    0.000    0.000 :0(transpose)\n",
      "        7    0.001    0.000    0.001    0.000 :0(zeros)\n",
      "        1    0.312    0.312    4.951    4.951 <ipython-input-14-743a739ac404>:12(get_similarity_matrix)\n",
      "        1    0.005    0.005    6.277    6.277 <ipython-input-14-743a739ac404>:132(cluster)\n",
      "      401    0.054    0.000    0.054    0.000 <ipython-input-14-743a739ac404>:21(set_diag)\n",
      "    40000    0.714    0.000    4.639    0.000 <ipython-input-14-743a739ac404>:3(distance)\n",
      "        1    0.838    0.838    1.318    1.318 <ipython-input-14-743a739ac404>:33(cluster_given_similarity_matrix)\n",
      "        1    0.000    0.000    6.278    6.278 <string>:1(<module>)\n",
      "        1    0.000    0.000    0.000    0.000 _methods.py:48(_count_reduce_items)\n",
      "        1    0.000    0.000    0.000    0.000 _methods.py:58(_mean)\n",
      "        1    0.000    0.000    0.000    0.000 core.py:6200(isMaskedArray)\n",
      "      800    0.013    0.000    0.031    0.000 fromnumeric.py:1294(diagonal)\n",
      "      200    0.004    0.000    0.023    0.000 fromnumeric.py:1821(sum)\n",
      "      400    0.006    0.000    0.102    0.000 fromnumeric.py:2227(amax)\n",
      "        1    0.000    0.000    0.000    0.000 fromnumeric.py:2817(mean)\n",
      "      200    0.002    0.000    0.041    0.000 fromnumeric.py:49(_wrapfunc)\n",
      "        1    0.000    0.000    0.001    0.001 fromnumeric.py:601(partition)\n",
      "      600    0.013    0.000    0.114    0.000 fromnumeric.py:64(_wrapreduction)\n",
      "      200    0.002    0.000    0.043    0.000 fromnumeric.py:976(argmax)\n",
      "        1    0.000    0.000    0.002    0.002 function_base.py:3199(_ureduce)\n",
      "        1    0.000    0.000    0.002    0.002 function_base.py:3254(median)\n",
      "        1    0.000    0.000    0.002    0.002 function_base.py:3342(_median)\n",
      "    40000    0.274    0.000    0.410    0.000 linalg.py:113(isComplexType)\n",
      "    40000    1.928    0.000    3.925    0.000 linalg.py:2203(norm)\n",
      "        2    0.000    0.000    0.000    0.000 numeric.py:1468(normalize_axis_tuple)\n",
      "        4    0.000    0.000    0.000    0.000 numeric.py:1515(<genexpr>)\n",
      "        1    0.000    0.000    0.000    0.000 numeric.py:1524(moveaxis)\n",
      "        1    0.000    0.000    0.000    0.000 numeric.py:156(ones)\n",
      "        1    0.000    0.000    0.000    0.000 numeric.py:1586(<listcomp>)\n",
      "    40000    0.298    0.000    0.468    0.000 numeric.py:433(asarray)\n",
      "     1604    0.012    0.000    0.018    0.000 numeric.py:504(asanyarray)\n",
      "        4    0.000    0.000    0.000    0.000 numerictypes.py:619(issubclass_)\n",
      "        2    0.000    0.000    0.000    0.000 numerictypes.py:687(issubdtype)\n",
      "        1    0.000    0.000    6.278    6.278 profile:0(cluster(points, 200, 1e-3, diag))\n",
      "        0    0.000             0.000          profile:0(profiler)\n",
      "      200    0.015    0.000    0.036    0.000 shape_base.py:1069(tile)\n",
      "      400    0.002    0.000    0.002    0.000 shape_base.py:1140(<genexpr>)\n",
      "      600    0.003    0.000    0.003    0.000 shape_base.py:1150(<genexpr>)\n",
      "      800    0.020    0.000    0.068    0.000 twodim_base.py:197(diag)\n",
      "        1    0.000    0.000    0.000    0.000 utils.py:1119(_median_nancheck)\n",
      "\n",
      "\n"
     ]
    }
   ],
   "source": [
    "if __name__ == \"__main__\":\n",
    "    profile.run(\"cluster(points, 200, 1e-3, diag)\")"
   ]
  },
  {
   "cell_type": "markdown",
   "metadata": {},
   "source": [
    "From the results, we can know that the 'get_similarity_matrix' function is the most time-consuming. If the speed of this function can be increased, the efficiency of 'cluster' function can also be improved. Then we plan to use some methods to speed up the 'get_similarity_matrix' function ."
   ]
  },
  {
   "cell_type": "markdown",
   "metadata": {},
   "source": [
    "**4.2 Optimization with vectorization**"
   ]
  },
  {
   "cell_type": "code",
   "execution_count": 18,
   "metadata": {},
   "outputs": [],
   "source": [
    "def get_similarity_matrix_vec(v):\n",
    "    n = v.shape[0]\n",
    "    s = np.zeros((n, n))\n",
    "    one = np.ones([n,1])\n",
    "    for i in range(n):\n",
    "        s[:,i] = -np.linalg.norm(v - (one @np.expand_dims(v[i,:] , axis=0)), axis=1)\n",
    "    return s"
   ]
  },
  {
   "cell_type": "code",
   "execution_count": 24,
   "metadata": {},
   "outputs": [],
   "source": [
    "def cluster_vec(data, max_iter = 200, conv_iter = 20, damping = 0.5, conv_threshold = 1e-3, pref = 'default', mode_term = 'clusters', lim_exemp = 1e-3):\n",
    "    \n",
    "    clusters = []\n",
    "    centers = []\n",
    "    labels = []\n",
    "    \n",
    "    s = get_similarity_matrix_vec(data)\n",
    "    results = cluster_given_similarity_matrix(s, max_iter, conv_iter, damping, conv_threshold, pref, mode_term, lim_exemp)\n",
    "    n_clusters = results[1]\n",
    "\n",
    "    for i in range(n_clusters):\n",
    "        sublist = []\n",
    "        clusters.append(sublist)\n",
    "\n",
    "    i = 0\n",
    "    for item in results[0]:\n",
    "        labels.append(item[1])\n",
    "        clusters[item[1]].append(data[i])\n",
    "        if item[0] == 1:\n",
    "            centers.append(data[i])\n",
    "        i += 1\n",
    "    \n",
    "    return clusters, centers, results[2], labels"
   ]
  },
  {
   "cell_type": "code",
   "execution_count": 22,
   "metadata": {},
   "outputs": [
    {
     "name": "stdout",
     "output_type": "stream",
     "text": [
      "649 ms ± 18.5 ms per loop (mean ± std. dev. of 7 runs, 1 loop each)\n"
     ]
    }
   ],
   "source": [
    "%timeit cluster(points, 200, 1e-3, diag)"
   ]
  },
  {
   "cell_type": "code",
   "execution_count": 25,
   "metadata": {},
   "outputs": [
    {
     "name": "stdout",
     "output_type": "stream",
     "text": [
      "417 ms ± 65.3 ms per loop (mean ± std. dev. of 7 runs, 1 loop each)\n"
     ]
    }
   ],
   "source": [
    "%timeit cluster_vec(points, 200, 1e-3, diag)"
   ]
  },
  {
   "cell_type": "markdown",
   "metadata": {},
   "source": [
    "**4.3 Optimization with JIT**"
   ]
  },
  {
   "cell_type": "code",
   "execution_count": 26,
   "metadata": {},
   "outputs": [],
   "source": [
    "import numba as nb\n",
    "\n",
    "@nb.jit(parallel=True)\n",
    "def get_similarity_matrix_jit(v):\n",
    "    n = v.shape[0]\n",
    "    s = np.zeros((n, n))\n",
    "    one = np.ones([n,1])\n",
    "    for i in range(n):\n",
    "        s[:,i] = -np.linalg.norm(v - (one @np.expand_dims(v[i,:] , axis=0)), axis=1)\n",
    "    return s"
   ]
  },
  {
   "cell_type": "code",
   "execution_count": 29,
   "metadata": {},
   "outputs": [],
   "source": [
    "@nb.jit()\n",
    "def cluster_jit(data, max_iter = 200, conv_iter = 20, damping = 0.5, conv_threshold = 1e-3, pref = 'default', mode_term = 'clusters', lim_exemp = 1e-3):\n",
    "    \n",
    "    clusters = []\n",
    "    centers = []\n",
    "    labels = []\n",
    "    \n",
    "    s = get_similarity_matrix_jit(data)\n",
    "    results = cluster_given_similarity_matrix(s, max_iter, conv_iter, damping, conv_threshold, pref, mode_term, lim_exemp)\n",
    "    n_clusters = results[1]\n",
    "\n",
    "    for i in range(n_clusters):\n",
    "        sublist = []\n",
    "        clusters.append(sublist)\n",
    "\n",
    "    i = 0\n",
    "    for item in results[0]:\n",
    "        labels.append(item[1])\n",
    "        clusters[item[1]].append(data[i])\n",
    "        if item[0] == 1:\n",
    "            centers.append(data[i])\n",
    "        i += 1\n",
    "    \n",
    "    return clusters, centers, results[2], labels"
   ]
  },
  {
   "cell_type": "code",
   "execution_count": 30,
   "metadata": {},
   "outputs": [
    {
     "name": "stdout",
     "output_type": "stream",
     "text": [
      "380 ms ± 4.56 ms per loop (mean ± std. dev. of 7 runs, 1 loop each)\n"
     ]
    }
   ],
   "source": [
    "%timeit cluster_jit(points, 200, 1e-3, diag)"
   ]
  },
  {
   "cell_type": "markdown",
   "metadata": {},
   "source": [
    "5.Test/Application on Simulated Data and Real Data\n",
    "---"
   ]
  },
  {
   "cell_type": "markdown",
   "metadata": {},
   "source": [
    "**5.1 Test with simulated data**\n",
    "--"
   ]
  },
  {
   "cell_type": "markdown",
   "metadata": {},
   "source": [
    "**Simulated Data - 1**"
   ]
  },
  {
   "cell_type": "code",
   "execution_count": 31,
   "metadata": {},
   "outputs": [
    {
     "data": {
      "image/png": "[encoded data removed]",
      "text/plain": [
       "<Figure size 360x360 with 1 Axes>"
      ]
     },
     "metadata": {
      "needs_background": "light"
     },
     "output_type": "display_data"
    },
    {
     "data": {
      "image/png": "[encoded data removed]",
      "text/plain": [
       "<Figure size 360x360 with 1 Axes>"
      ]
     },
     "metadata": {
      "needs_background": "light"
     },
     "output_type": "display_data"
    }
   ],
   "source": [
    "points = np.vstack(np.random.randn(100, 2))\n",
    "plt.figure(figsize=(5,5))\n",
    "plt.scatter(points[:, 0], points[:, 1])\n",
    "axes = plt.gca()\n",
    "axes.set_xlim([-3, 3])\n",
    "axes.set_ylim([-3, 3])\n",
    "\n",
    "results = apc.cluster(points, pref = np.ones(100) * -0.9)\n",
    "\n",
    "clusters = results[0]\n",
    "examplars = results[1]\n",
    "n_clusters = len(examplars)\n",
    "    \n",
    "xs = []\n",
    "ys = []\n",
    "for i in range(n_clusters):\n",
    "    x = []\n",
    "    y = []\n",
    "    for p in clusters[i]:\n",
    "        x.append(p[0])\n",
    "        y.append(p[1])\n",
    "    xs.append(x)\n",
    "    ys.append(y)\n",
    "\n",
    "vs = []\n",
    "for c in clusters:\n",
    "    if len(c) > 2:\n",
    "        vs.append(ConvexHull(c).vertices)\n",
    "    else:\n",
    "        vs.append(range(len(c)))\n",
    "\n",
    "bs_x = []\n",
    "bs_y = []\n",
    "\n",
    "for i in range(n_clusters):\n",
    "    b_x = []\n",
    "    b_y = []\n",
    "    for n in vs[i]:\n",
    "        b_x.append(clusters[i][n][0])\n",
    "        b_y.append(clusters[i][n][1])\n",
    "    b_x.append(b_x[0])\n",
    "    b_y.append(b_y[0])\n",
    "    bs_x.append(b_x)\n",
    "    bs_y.append(b_y)\n",
    "        \n",
    "colors = plt.cm.rainbow(np.linspace(0, 1, n_clusters))\n",
    "plt.figure(figsize=(5, 5))\n",
    "f = plt.gca()\n",
    "f.set_xlim([-3, 3])\n",
    "f.set_ylim([-3, 3])\n",
    "for i in range(n_clusters):\n",
    "    plt.scatter(xs[i], ys[i], color = colors[i])\n",
    "    f.add_artist(plt.Circle(examplars[i], 0.05, fill = False, lw = 2, color = 'black'))\n",
    "    plt.plot(bs_x[i], bs_y[i], color = colors[i])"
   ]
  },
  {
   "cell_type": "markdown",
   "metadata": {},
   "source": [
    "**Simulated Data - 2（Small data set)**"
   ]
  },
  {
   "cell_type": "code",
   "execution_count": 42,
   "metadata": {},
   "outputs": [
    {
     "data": {
      "image/png": "[encoded data removed]",
      "text/plain": [
       "<Figure size 432x288 with 1 Axes>"
      ]
     },
     "metadata": {
      "needs_background": "light"
     },
     "output_type": "display_data"
    }
   ],
   "source": [
    "np.random.seed(100)\n",
    "npts = 100\n",
    "nc = 3\n",
    "X, y = make_blobs(n_samples=npts, centers=nc)\n",
    "plt.scatter(X[:, 0], X[:, 1], s=5, c=y,\n",
    "            cmap=plt.cm.get_cmap('Accent', nc))\n",
    "plt.axis('square')\n",
    "pass"
   ]
  },
  {
   "cell_type": "code",
   "execution_count": 47,
   "metadata": {},
   "outputs": [
    {
     "data": {
      "image/png": "[encoded data removed]",
      "text/plain": [
       "<Figure size 432x288 with 1 Axes>"
      ]
     },
     "metadata": {
      "needs_background": "light"
     },
     "output_type": "display_data"
    }
   ],
   "source": [
    "results = apc.cluster(X, mode_term = 'matrices', lim_exemp = 1.0, pref = np.ones(100) * -3.3)\n",
    "centers = results[1]\n",
    "\n",
    "center_xs = apc.get_coords(0, centers)\n",
    "center_ys = apc.get_coords(1, centers)\n",
    "\n",
    "plt.scatter(X[:, 0], X[:, 1],s=5, c=y, cmap=plt.cm.get_cmap('Accent', nc))\n",
    "plt.scatter(center_xs, center_ys, marker = 'x', linewidth = 3, s = 100, c = 'red')\n",
    "plt.axis('square')\n",
    "pass"
   ]
  },
  {
   "cell_type": "markdown",
   "metadata": {},
   "source": [
    "**Simulated Data - 3(large data set)**"
   ]
  },
  {
   "cell_type": "code",
   "execution_count": 48,
   "metadata": {},
   "outputs": [
    {
     "data": {
      "image/png": "[encoded data removed]",
      "text/plain": [
       "<Figure size 432x288 with 1 Axes>"
      ]
     },
     "metadata": {
      "needs_background": "light"
     },
     "output_type": "display_data"
    }
   ],
   "source": [
    "np.random.seed(500)\n",
    "npts1 = 500\n",
    "nc1 = 4\n",
    "X1, y1 = make_blobs(n_samples=npts1, centers=nc1)\n",
    "plt.scatter(X1[:, 0], X1[:, 1], s=5, c=y1,\n",
    "            cmap=plt.cm.get_cmap('Accent', nc1))\n",
    "plt.axis('square')\n",
    "pass"
   ]
  },
  {
   "cell_type": "code",
   "execution_count": 38,
   "metadata": {},
   "outputs": [
    {
     "data": {
      "image/png": "[encoded data removed]",
      "text/plain": [
       "<Figure size 432x288 with 1 Axes>"
      ]
     },
     "metadata": {
      "needs_background": "light"
     },
     "output_type": "display_data"
    }
   ],
   "source": [
    "results_1 = apc.cluster(X1, mode_term = 'clusters', lim_exemp = 0.405, pref = np.ones(500) * -1.493)\n",
    "centers_1 = results_1[1]\n",
    "\n",
    "center_xs_1 = apc.get_coords(0, centers_1)\n",
    "center_ys_1 = apc.get_coords(1, centers_1)\n",
    "\n",
    "plt.scatter(X1[:, 0], X1[:, 1],s=5, c=y1, cmap=plt.cm.get_cmap('Accent', nc1))\n",
    "plt.scatter(center_xs_1, center_ys_1, marker='x', linewidth=3, s=100, c='red')\n",
    "plt.axis('square')\n",
    "pass"
   ]
  },
  {
   "cell_type": "markdown",
   "metadata": {},
   "source": [
    "**5.2 Examples**\n",
    "---"
   ]
  },
  {
   "cell_type": "markdown",
   "metadata": {},
   "source": [
    "**5.21 Real Data - breast_cancer**"
   ]
  },
  {
   "cell_type": "code",
   "execution_count": 62,
   "metadata": {},
   "outputs": [],
   "source": [
    "from sklearn.datasets import load_breast_cancer\n",
    "import pandas as pd\n",
    "\n",
    "bc = load_breast_cancer(return_X_y = True)\n",
    "data = bc[0]\n",
    "labels_t = bc[1]"
   ]
  },
  {
   "cell_type": "code",
   "execution_count": 63,
   "metadata": {
    "scrolled": false
   },
   "outputs": [
    {
     "data": {
      "image/png": "[encoded data removed]",
      "text/plain": [
       "<Figure size 432x288 with 1 Axes>"
      ]
     },
     "metadata": {
      "needs_background": "light"
     },
     "output_type": "display_data"
    }
   ],
   "source": [
    "warnings.simplefilter('ignore')\n",
    "accuracy = []\n",
    "n = 5\n",
    "for i in range(n):\n",
    "    results = apc.cluster(data, mode_term = 'matrices', lim_exemp = 100 - i*19, pref = np.ones(len(data)) * (-74))\n",
    "    labels = np.array(results[3])\n",
    "    accuracy.append(metrics.adjusted_rand_score(labels_t, labels))\n",
    "    \n",
    "plt.plot(np.arange(n), accuracy, 'k', color = 'blue')\n",
    "pass"
   ]
  },
  {
   "cell_type": "markdown",
   "metadata": {},
   "source": [
    "**5.211 Comparing our results with another two clustering methods**"
   ]
  },
  {
   "cell_type": "code",
   "execution_count": 64,
   "metadata": {},
   "outputs": [
    {
     "name": "stdout",
     "output_type": "stream",
     "text": [
      "Affinity Propagation Rand Index: 0.4683200215385412\n",
      "Kmeans Rand Index: 0.23417751663312886\n"
     ]
    }
   ],
   "source": [
    "results = apc.cluster(data, mode_term = 'matrices', lim_exemp = 100, pref = np.ones(len(data)) * -74)\n",
    "labels = np.array(results[3])\n",
    "print(\"Affinity Propagation Rand Index: {}\".format(metrics.adjusted_rand_score(labels_t, labels)))\n",
    "\n",
    "kmeans = KMeans().fit(data)\n",
    "labels_kmeans = kmeans.labels_\n",
    "print(\"Kmeans Rand Index: {}\".format(metrics.adjusted_rand_score(labels_t, labels_kmeans)))"
   ]
  },
  {
   "cell_type": "code",
   "execution_count": 67,
   "metadata": {},
   "outputs": [
    {
     "name": "stdout",
     "output_type": "stream",
     "text": [
      "Birch Rand Index: 0.39028769850145\n"
     ]
    }
   ],
   "source": [
    "birch = Birch().fit(data)\n",
    "labels_birch = birch.labels_\n",
    "print(\"Birch Rand Index: {}\".format(metrics.adjusted_rand_score(labels_t, labels_birch)))"
   ]
  },
  {
   "cell_type": "markdown",
   "metadata": {},
   "source": [
    "**5.22 Real Data - fetch_olivetti_faces**"
   ]
  },
  {
   "cell_type": "code",
   "execution_count": 53,
   "metadata": {},
   "outputs": [],
   "source": [
    "from sklearn.datasets import fetch_olivetti_faces \n",
    "of = fetch_olivetti_faces()\n",
    "data = of.data"
   ]
  },
  {
   "cell_type": "code",
   "execution_count": 54,
   "metadata": {},
   "outputs": [],
   "source": [
    "# this is the algorithm we developed\n",
    "# this section generates the labels for the 400 images respectively, representing the clusters they belong to\n",
    "warnings.simplefilter('ignore')\n",
    "results = apc.cluster(data, mode_term = 'matrices', pref = np.ones(400) * -10)\n",
    "labels_1 = np.array(results[3])"
   ]
  },
  {
   "cell_type": "markdown",
   "metadata": {},
   "source": [
    "**5.221 Comparing our results with existing package**"
   ]
  },
  {
   "cell_type": "code",
   "execution_count": 55,
   "metadata": {},
   "outputs": [],
   "source": [
    "# this is the algorithm included in sklearn.cluster\n",
    "# the following parameters result in relatively high accuracy, compared to other combinations\n",
    "ap = AffinityPropagation(convergence_iter = 20, damping = 0.9, max_iter = 1000).fit(data)\n",
    "labels_2 = ap.labels_"
   ]
  },
  {
   "cell_type": "code",
   "execution_count": 68,
   "metadata": {},
   "outputs": [],
   "source": [
    "# true labels\n",
    "labels_t = np.empty(400)\n",
    "for i in range(400):\n",
    "    labels_t[i] = int(i / 10)"
   ]
  },
  {
   "cell_type": "code",
   "execution_count": 57,
   "metadata": {},
   "outputs": [
    {
     "name": "stdout",
     "output_type": "stream",
     "text": [
      "Affinity Propagation Rand Index 1: 0.45395515869164316\n",
      "Affinity Propagation Rand Index 2: 0.4852536013224529\n"
     ]
    }
   ],
   "source": [
    "print(\"Affinity Propagation Rand Index 1: {}\".format(metrics.adjusted_rand_score(labels_t, labels_1)))\n",
    "print(\"Affinity Propagation Rand Index 2: {}\".format(metrics.adjusted_rand_score(labels_t, labels_2)))"
   ]
  },
  {
   "cell_type": "markdown",
   "metadata": {},
   "source": [
    "**5.222 Comparing our results with another two clustering methods**"
   ]
  },
  {
   "cell_type": "code",
   "execution_count": 96,
   "metadata": {},
   "outputs": [
    {
     "name": "stdout",
     "output_type": "stream",
     "text": [
      "Kmeans Rand Index: 0.12390133690553883\n",
      "Meanshift Rand Index: 0.0\n"
     ]
    }
   ],
   "source": [
    "# for unknown reasons the accuracy of these two methods are exceptionally low\n",
    "kmeans = KMeans().fit(data)\n",
    "labels_kmeans = kmeans.labels_\n",
    "print(\"Kmeans Rand Index: {}\".format(metrics.adjusted_rand_score(labels_t, labels_kmeans)))\n",
    "\n",
    "meanshift = MeanShift().fit(data)\n",
    "labels_meanshift = meanshift.labels_\n",
    "print(\"Meanshift Rand Index: {}\".format(metrics.adjusted_rand_score(labels_t, labels_meanshift)))"
   ]
  },
  {
   "cell_type": "markdown",
   "metadata": {},
   "source": [
    "**5.23 Adjusting parameters**"
   ]
  },
  {
   "cell_type": "code",
   "execution_count": 98,
   "metadata": {},
   "outputs": [
    {
     "data": {
      "image/png": "[encoded data removed]",
      "text/plain": [
       "<Figure size 432x288 with 1 Axes>"
      ]
     },
     "metadata": {
      "needs_background": "light"
     },
     "output_type": "display_data"
    }
   ],
   "source": [
    "# when other factors are fixed, adjusting the value of shared preference would result in the following\n",
    "warnings.simplefilter('ignore')\n",
    "accuracy = []\n",
    "n = 40\n",
    "for i in range(n):\n",
    "    results = apc.cluster(data, pref = np.ones(400) * -i)\n",
    "    labels_1 = np.array(results[3])\n",
    "    accuracy.append(metrics.adjusted_rand_score(labels_t, labels_1))\n",
    "    \n",
    "plt.plot(np.arange(n), accuracy, 'k', color = 'blue')\n",
    "pass"
   ]
  },
  {
   "cell_type": "code",
   "execution_count": 104,
   "metadata": {},
   "outputs": [
    {
     "data": {
      "image/png": "[encoded data removed]",
      "text/plain": [
       "<Figure size 432x288 with 1 Axes>"
      ]
     },
     "metadata": {
      "needs_background": "light"
     },
     "output_type": "display_data"
    }
   ],
   "source": [
    "# adjusting convergence condition alone would result in the following\n",
    "warnings.simplefilter('ignore')\n",
    "accuracy = []\n",
    "n = 20\n",
    "for i in range(n):\n",
    "    results = apc.cluster(data, lim_exemp = 10**-i, pref = np.ones(400) * -10)\n",
    "    labels_1 = np.array(results[3])\n",
    "    accuracy.append(metrics.adjusted_rand_score(labels_t, labels_1))\n",
    "    \n",
    "plt.plot(np.arange(n), accuracy, 'k', color = 'blue')\n",
    "pass"
   ]
  },
  {
   "cell_type": "markdown",
   "metadata": {},
   "source": [
    "6.Comparative analysis with competing algorithms\n",
    "------"
   ]
  },
  {
   "cell_type": "code",
   "execution_count": 73,
   "metadata": {},
   "outputs": [],
   "source": [
    "centers = [[1, 1], [-1, -1], [1, -1]]\n",
    "X2, label_true = make_blobs(n_samples=100, centers=centers, cluster_std=0.5, random_state=2019)"
   ]
  },
  {
   "cell_type": "code",
   "execution_count": 74,
   "metadata": {},
   "outputs": [
    {
     "name": "stdout",
     "output_type": "stream",
     "text": [
      "Affinity Propagation Rand Index: 0.5222527337467606\n",
      "Kmeans Rand Index: 0.43257991347387187\n",
      "Meanshift Rand Index: 0.4484609279246689\n",
      "Affinity Propagation has the highest accuracy compared with Kmeans and Meanshift.\n"
     ]
    }
   ],
   "source": [
    "results = apc.cluster(X2, pref = np.ones(100) * -0.8)\n",
    "label_ap = results[3]\n",
    "#print(label_ap)\n",
    "print(\"Affinity Propagation Rand Index: {}\".format(metrics.adjusted_rand_score(label_true, label_ap)))\n",
    "\n",
    "kmeans = KMeans().fit(X2)\n",
    "label_kmeans = kmeans.labels_\n",
    "print(\"Kmeans Rand Index: {}\".format(metrics.adjusted_rand_score(label_true, label_kmeans)))\n",
    "\n",
    "meanshift = MeanShift().fit(X2)\n",
    "label_meanshift = meanshift.labels_\n",
    "print(\"Meanshift Rand Index: {}\".format(metrics.adjusted_rand_score(label_true, label_meanshift)))\n",
    "print(\"Affinity Propagation has the highest accuracy compared with Kmeans and Meanshift.\")"
   ]
  },
  {
   "cell_type": "markdown",
   "metadata": {},
   "source": [
    "7.Conclusion\n",
    "-----"
   ]
  },
  {
   "cell_type": "markdown",
   "metadata": {},
   "source": [
    "In this project, we implement the affinity propagation method and optimize it by using vectorization and JIT. Based on the implementation, we test the method on three sets of simulated data and two sets of real data. Moreover, we compare its accuracy and effeciency  with an existing package and two competing algorithms.\n",
    "\n",
    "From comparing with Kmeans and Meanshift method, we find that affinity propagation method is more accurate and efficient in small data sets. Moreover, it performs well in high-dimensional data sets.\n",
    "\n",
    "From testing on simulated large data sets, we find that this method cannot converge to optimal solutions, which means the affinity propagation method has relatively low accuracy when it comes to large data sets. Also, we notice that when there is no prior knowledge of metric (distance function for the similarity matrix), this method is hard to achieve optimal results. One possible improvement is to use weighted euclidean distances instead of basic euclidean distances as the similarity matrix. To obtain optimal weights, we can use gradient descent method in training data sets. However, if the matric are especially complex, this limitation is hard to improve."
   ]
  },
  {
   "cell_type": "markdown",
   "metadata": {},
   "source": [
    "8.Reference\n",
    "---"
   ]
  },
  {
   "cell_type": "markdown",
   "metadata": {},
   "source": [
    "[1] Brendan J. Frey and Delbert Dueck. \"Clustering by Passing Messages Between Data Points\". Science Feb. 2007\n",
    "\n",
    "[2] Delbert Dueck. \"Affinity Propagation: Clustering Data by Passing Messages\". University of Toronto. 2009"
   ]
  }
 ],
 "metadata": {
  "kernelspec": {
   "display_name": "Python 3",
   "language": "python",
   "name": "python3"
  },
  "language_info": {
   "codemirror_mode": {
    "name": "ipython",
    "version": 3
   },
   "file_extension": ".py",
   "mimetype": "text/x-python",
   "name": "python",
   "nbconvert_exporter": "python",
   "pygments_lexer": "ipython3",
   "version": "3.7.1"
  }
 },
 "nbformat": 4,
 "nbformat_minor": 2
}
